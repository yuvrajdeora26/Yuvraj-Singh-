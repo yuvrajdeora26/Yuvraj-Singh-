{
  "nbformat": 4,
  "nbformat_minor": 0,
  "metadata": {
    "colab": {
      "provenance": [],
      "authorship_tag": "ABX9TyNEJAM8fFw4NJSBjU3waqeO",
      "include_colab_link": true
    },
    "kernelspec": {
      "name": "python3",
      "display_name": "Python 3"
    },
    "language_info": {
      "name": "python"
    }
  },
  "cells": [
    {
      "cell_type": "markdown",
      "metadata": {
        "id": "view-in-github",
        "colab_type": "text"
      },
      "source": [
        "<a href=\"https://colab.research.google.com/github/yuvrajdeora26/Yuvraj-Singh-/blob/main/Assignment_module_5_.ipynb\" target=\"_parent\"><img src=\"https://colab.research.google.com/assets/colab-badge.svg\" alt=\"Open In Colab\"/></a>"
      ]
    },
    {
      "cell_type": "markdown",
      "source": [
        "1. Key Concepts of Object-Oriented Programming (OOP)\n",
        "The five key concepts of OOP are:\n",
        "\n",
        "Encapsulation: Bundling data (attributes) and methods that operate on that data within a single unit or class.\n",
        "\n",
        "Abstraction: Hiding complex implementation details and showing only the essential features of an object.\n",
        "\n",
        "Inheritance: Creating a new class based on an existing class, allowing for code reuse and establishing a hierarchical relationship.\n",
        "\n",
        "Polymorphism: Allowing methods to do different things based on the object it is acting upon, typically achieved through method overriding and overloading.\n",
        "\n",
        "Classes and Objects: A class is a blueprint for creating objects, while an object is an instance of a class."
      ],
      "metadata": {
        "id": "BYqi0-FvBk8P"
      }
    },
    {
      "cell_type": "markdown",
      "source": [
        "2. Python class for car"
      ],
      "metadata": {
        "id": "cnrT8ngICWhP"
      }
    },
    {
      "cell_type": "code",
      "source": [
        "class Car:\n",
        "    def __init__(self, make, model, year):\n",
        "        self.make = make\n",
        "        self.model = model\n",
        "        self.year = year\n",
        "\n",
        "    def display_info(self):\n",
        "        print(f\"{self.year} {self.make} {self.model}\")\n",
        "\n",
        "my_car = Car(\"Toyota\", \"Corolla\", 2020)\n",
        "my_car.display_info()\n"
      ],
      "metadata": {
        "colab": {
          "base_uri": "https://localhost:8080/"
        },
        "id": "hBbmHH_VBkVq",
        "outputId": "814260ef-68ca-405c-b837-97b2e710e8ca"
      },
      "execution_count": null,
      "outputs": [
        {
          "output_type": "stream",
          "name": "stdout",
          "text": [
            "2020 Toyota Corolla\n"
          ]
        }
      ]
    },
    {
      "cell_type": "markdown",
      "source": [
        "3. Instance Methods vs Class Methods\n",
        "\n",
        "Instance Methods: Operate on an instance of the class and can access instance attributes. They take self as the first parameter."
      ],
      "metadata": {
        "id": "_eP0DXXbC0ne"
      }
    },
    {
      "cell_type": "code",
      "source": [
        "class MyClass:\n",
        "    def instance_method(self):\n",
        "        return \"This is an instance method.\"\n",
        "\n",
        "obj = MyClass()\n",
        "print(obj.instance_method())\n"
      ],
      "metadata": {
        "colab": {
          "base_uri": "https://localhost:8080/"
        },
        "id": "ya-QS4x3CebL",
        "outputId": "ba3b798a-57ca-4cb0-e923-ef952eb513d2"
      },
      "execution_count": null,
      "outputs": [
        {
          "output_type": "stream",
          "name": "stdout",
          "text": [
            "This is an instance method.\n"
          ]
        }
      ]
    },
    {
      "cell_type": "markdown",
      "source": [
        "Class Methods: Operate on the class itself rather than instances. They take cls as the first parameter and are defined with the @classmethod decorator."
      ],
      "metadata": {
        "id": "V4nJ8_BODFZk"
      }
    },
    {
      "cell_type": "code",
      "source": [
        "class MyClass:\n",
        "    @classmethod\n",
        "    def class_method(cls):\n",
        "        return \"This is a class method.\"\n",
        "\n",
        "print(MyClass.class_method())\n"
      ],
      "metadata": {
        "colab": {
          "base_uri": "https://localhost:8080/"
        },
        "id": "2_2QQU8LDNEI",
        "outputId": "f6c55f8e-a8b6-4363-dd97-beaf57dda9ec"
      },
      "execution_count": null,
      "outputs": [
        {
          "output_type": "stream",
          "name": "stdout",
          "text": [
            "This is a class method.\n"
          ]
        }
      ]
    },
    {
      "cell_type": "markdown",
      "source": [
        "4. Method Overloading in Python\n",
        "\n",
        "Python does not support traditional method overloading like some other languages. However, it can achieve similar behavior using default arguments or variable-length arguments."
      ],
      "metadata": {
        "id": "Edy8pf4aDXdA"
      }
    },
    {
      "cell_type": "code",
      "source": [
        "class Example:\n",
        "    def add(self, a, b, c=0):\n",
        "        return a + b + c\n",
        "\n",
        "obj = Example()\n",
        "print(obj.add(1, 2))\n",
        "print(obj.add(1, 2, 3))\n"
      ],
      "metadata": {
        "colab": {
          "base_uri": "https://localhost:8080/"
        },
        "id": "pzpeSM8CDfBX",
        "outputId": "b1710e34-9745-4452-d6db-86521d0c4ed9"
      },
      "execution_count": null,
      "outputs": [
        {
          "output_type": "stream",
          "name": "stdout",
          "text": [
            "3\n",
            "6\n"
          ]
        }
      ]
    },
    {
      "cell_type": "markdown",
      "source": [
        "5. Access Modifiers in Python\n",
        "\n",
        "Python has three types of access modifiers:\n",
        "\n",
        "Public: Attributes and methods are accessible from outside the class. Denoted with no underscore prefix (e.g., attribute).\n",
        "\n",
        "Protected: Intended for internal use; accessible in the class and subclasses. Denoted with a single underscore prefix (e.g., _attribute).\n",
        "\n",
        "Private: Accessible only within the class itself. Denoted with a double underscore prefix (e.g., __attribute)."
      ],
      "metadata": {
        "id": "q7QuduZzDsSU"
      }
    },
    {
      "cell_type": "markdown",
      "source": [
        "6. Types of Inheritance in Python\n",
        "\n",
        "Single Inheritance: One class inherits from another.\n",
        "\n",
        "Multiple Inheritance: A class inherits from multiple classes.\n",
        "\n",
        "Multilevel Inheritance: A class inherits from a derived class.\n",
        "\n",
        "Hierarchical Inheritance: Multiple classes inherit from a single base class.\n",
        "Hybrid Inheritance: Combination of two or more types of inheritance."
      ],
      "metadata": {
        "id": "zxcSyy2kD_AY"
      }
    },
    {
      "cell_type": "markdown",
      "source": [
        "7. Method Resolution Order (MRO)\n",
        "\n",
        "The MRO is the order in which classes are searched when calling a method. Python uses the C3 linearization algorithm to determine the MRO.\n",
        "\n",
        "You can retrieve the MRO programmatically using the mro() method:"
      ],
      "metadata": {
        "id": "YA3lGQ_7EY4G"
      }
    },
    {
      "cell_type": "code",
      "source": [
        "class A: pass\n",
        "class B(A): pass\n",
        "class C(A): pass\n",
        "class D(B, C): pass\n",
        "\n",
        "print(D.mro())\n"
      ],
      "metadata": {
        "colab": {
          "base_uri": "https://localhost:8080/"
        },
        "id": "mSp46l_vENz6",
        "outputId": "694d306b-ba74-426b-9a78-eb5503805b19"
      },
      "execution_count": null,
      "outputs": [
        {
          "output_type": "stream",
          "name": "stdout",
          "text": [
            "[<class '__main__.D'>, <class '__main__.B'>, <class '__main__.C'>, <class '__main__.A'>, <class 'object'>]\n"
          ]
        }
      ]
    },
    {
      "cell_type": "markdown",
      "source": [
        "8. Abstract Base Class Shape"
      ],
      "metadata": {
        "id": "TYdeU31ZEs_8"
      }
    },
    {
      "cell_type": "code",
      "source": [
        "from abc import ABC, abstractmethod\n",
        "import math\n",
        "\n",
        "class Shape(ABC):\n",
        "    @abstractmethod\n",
        "    def area(self):\n",
        "        pass\n",
        "\n",
        "class Circle(Shape):\n",
        "    def __init__(self, radius):\n",
        "        self.radius = radius\n",
        "\n",
        "    def area(self):\n",
        "        return math.pi * self.radius ** 2\n",
        "\n",
        "class Rectangle(Shape):\n",
        "    def __init__(self, width, height):\n",
        "        self.width = width\n",
        "        self.height = height\n",
        "\n",
        "    def area(self):\n",
        "        return self.width * self.height\n"
      ],
      "metadata": {
        "id": "GJOWQKvbEehH"
      },
      "execution_count": null,
      "outputs": []
    },
    {
      "cell_type": "markdown",
      "source": [
        "9. Demonstrating Polymorphism"
      ],
      "metadata": {
        "id": "Wqmz_EApFhkw"
      }
    },
    {
      "cell_type": "code",
      "source": [
        "def print_area(shape):\n",
        "    print(f\"Area: {shape.area()}\")\n",
        "\n",
        "circle = Circle(5)\n",
        "rectangle = Rectangle(4, 6)\n",
        "\n",
        "print_area(circle)\n",
        "print_area(rectangle)\n"
      ],
      "metadata": {
        "colab": {
          "base_uri": "https://localhost:8080/"
        },
        "id": "6Xgrt9GPFmp4",
        "outputId": "0a161aa2-c185-4eb4-ab58-916c444178b1"
      },
      "execution_count": null,
      "outputs": [
        {
          "output_type": "stream",
          "name": "stdout",
          "text": [
            "Area: 78.53981633974483\n",
            "Area: 24\n"
          ]
        }
      ]
    },
    {
      "cell_type": "markdown",
      "source": [
        "10. Encapsulation in bank account"
      ],
      "metadata": {
        "id": "6fPA5RqHHdkR"
      }
    },
    {
      "cell_type": "code",
      "source": [
        "class BankAccount:\n",
        "    def __init__(self, account_number, initial_balance=0):\n",
        "        self.__account_number = account_number\n",
        "        self.__balance = initial_balance\n",
        "\n",
        "    def deposit(self, amount):\n",
        "        self.__balance += amount\n",
        "\n",
        "    def withdraw(self, amount):\n",
        "        if amount <= self.__balance:\n",
        "            self.__balance -= amount\n",
        "        else:\n",
        "            print(\"Insufficient funds!\")\n",
        "\n",
        "    def balance_inquiry(self):\n",
        "        return self.__balance\n",
        "\n",
        "# Example usage\n",
        "account = BankAccount(\"123456789\")\n",
        "account.deposit(100)\n",
        "print(account.balance_inquiry())\n"
      ],
      "metadata": {
        "colab": {
          "base_uri": "https://localhost:8080/"
        },
        "id": "MAO7mE2oGRMy",
        "outputId": "813263c2-c559-4248-c475-9f487c30c21d"
      },
      "execution_count": null,
      "outputs": [
        {
          "output_type": "stream",
          "name": "stdout",
          "text": [
            "100\n"
          ]
        }
      ]
    },
    {
      "cell_type": "markdown",
      "source": [
        "11. Overriding __str__ and __add__"
      ],
      "metadata": {
        "id": "RJlVmEJHHt45"
      }
    },
    {
      "cell_type": "code",
      "source": [
        "class MyNumber:\n",
        "    def __init__(self, value):\n",
        "        self.value = value\n",
        "\n",
        "    def __str__(self):\n",
        "        return str(self.value)\n",
        "\n",
        "    def __add__(self, other):\n",
        "        return MyNumber(self.value + other.value)\n",
        "\n",
        "num1 = MyNumber(10)\n",
        "num2 = MyNumber(20)\n",
        "print(num1)\n",
        "result = num1 + num2\n",
        "print(result)\n"
      ],
      "metadata": {
        "colab": {
          "base_uri": "https://localhost:8080/"
        },
        "id": "SV8LAMBIHona",
        "outputId": "1d81d592-4310-4f14-8f9d-73c4f69659a3"
      },
      "execution_count": null,
      "outputs": [
        {
          "output_type": "stream",
          "name": "stdout",
          "text": [
            "10\n",
            "30\n"
          ]
        }
      ]
    },
    {
      "cell_type": "markdown",
      "source": [
        "12. Execution Time Decorator"
      ],
      "metadata": {
        "id": "8yOgQA8lH7tC"
      }
    },
    {
      "cell_type": "code",
      "source": [
        "import time\n",
        "\n",
        "def timer_decorator(func):\n",
        "    def wrapper(*args, **kwargs):\n",
        "        start_time = time.time()\n",
        "        result = func(*args, **kwargs)\n",
        "        end_time = time.time()\n",
        "        print(f\"Execution time: {end_time - start_time:.4f} seconds\")\n",
        "        return result\n",
        "    return wrapper\n",
        "\n",
        "@timer_decorator\n",
        "def example_function():\n",
        "    time.sleep(2)  # Simulates a long-running process\n",
        "\n",
        "example_function()\n"
      ],
      "metadata": {
        "colab": {
          "base_uri": "https://localhost:8080/"
        },
        "id": "ORXfbeFnHx1M",
        "outputId": "3f9b1fea-2228-4a96-b21d-60b8502670f8"
      },
      "execution_count": null,
      "outputs": [
        {
          "output_type": "stream",
          "name": "stdout",
          "text": [
            "Execution time: 2.0030 seconds\n"
          ]
        }
      ]
    },
    {
      "cell_type": "markdown",
      "source": [
        "13. Diamond Problem in Multiple Inheritance\n",
        "\n",
        "The Diamond Problem occurs when a class inherits from two classes that have a common ancestor. Python uses the C3 linearization algorithm to resolve this by establishing a clear method resolution order."
      ],
      "metadata": {
        "id": "i4aYuL2iIKYm"
      }
    },
    {
      "cell_type": "markdown",
      "source": [
        "14. Class Method for Instance Count"
      ],
      "metadata": {
        "id": "rBjrqYvTIQgx"
      }
    },
    {
      "cell_type": "code",
      "source": [
        "class MyClass:\n",
        "    instance_count = 0\n",
        "\n",
        "    def __init__(self):\n",
        "        MyClass.instance_count += 1\n",
        "\n",
        "    @classmethod\n",
        "    def get_instance_count(cls):\n",
        "        return cls.instance_count\n",
        "\n",
        "obj1 = MyClass()\n",
        "obj2 = MyClass()\n",
        "print(MyClass.get_instance_count())\n"
      ],
      "metadata": {
        "colab": {
          "base_uri": "https://localhost:8080/"
        },
        "id": "p9b83zVoIDS7",
        "outputId": "51b3a654-cf71-4900-acad-0b3b43edd256"
      },
      "execution_count": null,
      "outputs": [
        {
          "output_type": "stream",
          "name": "stdout",
          "text": [
            "2\n"
          ]
        }
      ]
    },
    {
      "cell_type": "markdown",
      "source": [
        "15. Static Method for Leap Year Check"
      ],
      "metadata": {
        "id": "mblMKvDXIcpy"
      }
    },
    {
      "cell_type": "code",
      "source": [
        "class Year:\n",
        "    @staticmethod\n",
        "    def is_leap_year(year):\n",
        "        return (year % 4 == 0 and year % 100 != 0) or (year % 400 == 0)\n",
        "\n",
        "# Example usage\n",
        "print(Year.is_leap_year(2020))\n",
        "print(Year.is_leap_year(2021))\n"
      ],
      "metadata": {
        "colab": {
          "base_uri": "https://localhost:8080/"
        },
        "id": "jw56z3XJIU_t",
        "outputId": "cd78c4d8-3aa1-42fb-986d-e8ab02d34536"
      },
      "execution_count": null,
      "outputs": [
        {
          "output_type": "stream",
          "name": "stdout",
          "text": [
            "True\n",
            "False\n"
          ]
        }
      ]
    },
    {
      "cell_type": "code",
      "source": [],
      "metadata": {
        "id": "Uz5ZM0seIjFz"
      },
      "execution_count": null,
      "outputs": []
    }
  ]
}