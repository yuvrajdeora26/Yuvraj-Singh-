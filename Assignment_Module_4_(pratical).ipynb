{
  "nbformat": 4,
  "nbformat_minor": 0,
  "metadata": {
    "colab": {
      "provenance": [],
      "authorship_tag": "ABX9TyPvBYNBzq41MYJwOV4q1n73",
      "include_colab_link": true
    },
    "kernelspec": {
      "name": "python3",
      "display_name": "Python 3"
    },
    "language_info": {
      "name": "python"
    }
  },
  "cells": [
    {
      "cell_type": "markdown",
      "metadata": {
        "id": "view-in-github",
        "colab_type": "text"
      },
      "source": [
        "<a href=\"https://colab.research.google.com/github/yuvrajdeora26/Yuvraj-Singh-/blob/main/Assignment_Module_4_(pratical).ipynb\" target=\"_parent\"><img src=\"https://colab.research.google.com/assets/colab-badge.svg\" alt=\"Open In Colab\"/></a>"
      ]
    },
    {
      "cell_type": "markdown",
      "source": [
        "1. Write a Python function that takes a list of numbers as input and returns the sum of all even numbers in\n",
        "the list."
      ],
      "metadata": {
        "id": "OaOEZuEcGfwh"
      }
    },
    {
      "cell_type": "code",
      "source": [
        "L = [1,2,3,4,5,6,7,8,9,10,11]\n",
        "def even(L):\n",
        "  sum = 0\n",
        "  for i in L:\n",
        "    if i%2 == 0:\n",
        "      sum = sum + i\n",
        "  return sum\n"
      ],
      "metadata": {
        "id": "mlvEjp2AGhde"
      },
      "execution_count": 8,
      "outputs": []
    },
    {
      "cell_type": "code",
      "source": [
        "even(L)"
      ],
      "metadata": {
        "colab": {
          "base_uri": "https://localhost:8080/"
        },
        "id": "bkJJ4Vxz5_RE",
        "outputId": "8c13b74c-6b09-4126-8510-e20164f344c7"
      },
      "execution_count": 9,
      "outputs": [
        {
          "output_type": "execute_result",
          "data": {
            "text/plain": [
              "30"
            ]
          },
          "metadata": {},
          "execution_count": 9
        }
      ]
    },
    {
      "cell_type": "markdown",
      "source": [
        "2. Create a Python function that accepts a string and returns the reverse of that string."
      ],
      "metadata": {
        "id": "sDR9zVZP8kUb"
      }
    },
    {
      "cell_type": "code",
      "source": [
        "name = \"yuvraj singh deora\""
      ],
      "metadata": {
        "id": "Oqaw0Qdy8qSF"
      },
      "execution_count": 10,
      "outputs": []
    },
    {
      "cell_type": "code",
      "source": [
        "x = lambda a : a[ :: -1]"
      ],
      "metadata": {
        "id": "kJEUjTwCFMAo"
      },
      "execution_count": 11,
      "outputs": []
    },
    {
      "cell_type": "code",
      "source": [
        "x(name)"
      ],
      "metadata": {
        "colab": {
          "base_uri": "https://localhost:8080/",
          "height": 36
        },
        "id": "qG6GpKRuFaFu",
        "outputId": "fccb5a51-d2ec-4a61-c77b-e9e77c701a02"
      },
      "execution_count": 12,
      "outputs": [
        {
          "output_type": "execute_result",
          "data": {
            "text/plain": [
              "'aroed hgnis jarvuy'"
            ],
            "application/vnd.google.colaboratory.intrinsic+json": {
              "type": "string"
            }
          },
          "metadata": {},
          "execution_count": 12
        }
      ]
    },
    {
      "cell_type": "markdown",
      "source": [
        "3. Implement a Python function that takes a list of integers and returns a new list containing the squares of\n",
        "each number."
      ],
      "metadata": {
        "id": "od_orG2tFfO4"
      }
    },
    {
      "cell_type": "code",
      "source": [
        "num = [3,4,5,6,7,8,9,10,11]\n",
        "list(map(lambda x : x**2,num))"
      ],
      "metadata": {
        "colab": {
          "base_uri": "https://localhost:8080/"
        },
        "id": "zD942-PLFntY",
        "outputId": "948c333d-0277-4266-cea3-8a02999a7c18"
      },
      "execution_count": 13,
      "outputs": [
        {
          "output_type": "execute_result",
          "data": {
            "text/plain": [
              "[9, 16, 25, 36, 49, 64, 81, 100, 121]"
            ]
          },
          "metadata": {},
          "execution_count": 13
        }
      ]
    },
    {
      "cell_type": "markdown",
      "source": [
        "4. Write a Python function that checks if a given number is prime or not from 1 to 200."
      ],
      "metadata": {
        "id": "JPBJtQAgS667"
      }
    },
    {
      "cell_type": "code",
      "source": [
        "def is_prime(num):\n",
        "  if num <= 1:\n",
        "    return False\n",
        "  if num <= 3:\n",
        "    return True\n",
        "  if num % 2 == 0 or num % 3 == 0:\n",
        "    return False\n",
        "  i = 5\n",
        "  while i * i <= num:\n",
        "    if num % i == 0 or num % (i + 2) == 0:\n",
        "      return False\n",
        "    i = i + 6\n",
        "  return True\n",
        "\n",
        "# Check for prime numbers from 1 to 200\n",
        "for number in range(1, 201):\n",
        "  if is_prime(number):\n",
        "    print(number)"
      ],
      "metadata": {
        "colab": {
          "base_uri": "https://localhost:8080/"
        },
        "id": "RVfLE696TEBi",
        "outputId": "922f91a9-2949-4497-fafa-d709f2bca287"
      },
      "execution_count": 1,
      "outputs": [
        {
          "output_type": "stream",
          "name": "stdout",
          "text": [
            "2\n",
            "3\n",
            "5\n",
            "7\n",
            "11\n",
            "13\n",
            "17\n",
            "19\n",
            "23\n",
            "29\n",
            "31\n",
            "37\n",
            "41\n",
            "43\n",
            "47\n",
            "53\n",
            "59\n",
            "61\n",
            "67\n",
            "71\n",
            "73\n",
            "79\n",
            "83\n",
            "89\n",
            "97\n",
            "101\n",
            "103\n",
            "107\n",
            "109\n",
            "113\n",
            "127\n",
            "131\n",
            "137\n",
            "139\n",
            "149\n",
            "151\n",
            "157\n",
            "163\n",
            "167\n",
            "173\n",
            "179\n",
            "181\n",
            "191\n",
            "193\n",
            "197\n",
            "199\n"
          ]
        }
      ]
    },
    {
      "cell_type": "markdown",
      "source": [
        "5. Create an iterator class in Python that generates the Fibonacci sequence up to a specified number of\n",
        "terms.\n"
      ],
      "metadata": {
        "id": "kXCuOqDNwffB"
      }
    },
    {
      "cell_type": "code",
      "source": [
        "def fib(n):\n",
        "  a=0\n",
        "  b=1\n",
        "  for i in range(n):\n",
        "    print(a)\n",
        "    a,b = b , a+b"
      ],
      "metadata": {
        "id": "NVsx9aHzwlib"
      },
      "execution_count": 3,
      "outputs": []
    },
    {
      "cell_type": "code",
      "source": [
        "fib(10)"
      ],
      "metadata": {
        "colab": {
          "base_uri": "https://localhost:8080/"
        },
        "id": "SMS0QHXo5gcU",
        "outputId": "230abda2-b919-4300-909a-e8ab72d16bdc"
      },
      "execution_count": 4,
      "outputs": [
        {
          "output_type": "stream",
          "name": "stdout",
          "text": [
            "0\n",
            "1\n",
            "1\n",
            "2\n",
            "3\n",
            "5\n",
            "8\n",
            "13\n",
            "21\n",
            "34\n"
          ]
        }
      ]
    },
    {
      "cell_type": "markdown",
      "source": [
        "6. Write a generator function in Python that yields the powers of 2 up to a given exponent."
      ],
      "metadata": {
        "id": "ADjWQB4j5n7x"
      }
    },
    {
      "cell_type": "code",
      "source": [
        "def power(exponent):\n",
        "  for i in range(exponent + 1):\n",
        "    yield 2**i"
      ],
      "metadata": {
        "id": "NAMtt78m5t_n"
      },
      "execution_count": 5,
      "outputs": []
    },
    {
      "cell_type": "code",
      "source": [
        "power(4)\n",
        "gen = power(4)\n",
        "next(gen)"
      ],
      "metadata": {
        "colab": {
          "base_uri": "https://localhost:8080/"
        },
        "id": "7VdeiaLMCyQy",
        "outputId": "63b7e7a1-a1f2-4c2d-b5e9-32afc6b5db80"
      },
      "execution_count": 6,
      "outputs": [
        {
          "output_type": "execute_result",
          "data": {
            "text/plain": [
              "1"
            ]
          },
          "metadata": {},
          "execution_count": 6
        }
      ]
    },
    {
      "cell_type": "code",
      "source": [
        "next(gen)"
      ],
      "metadata": {
        "colab": {
          "base_uri": "https://localhost:8080/"
        },
        "id": "lg3DlOdzDCEn",
        "outputId": "081e78bb-60d0-4717-af95-9fb3a747b098"
      },
      "execution_count": 7,
      "outputs": [
        {
          "output_type": "execute_result",
          "data": {
            "text/plain": [
              "2"
            ]
          },
          "metadata": {},
          "execution_count": 7
        }
      ]
    },
    {
      "cell_type": "code",
      "source": [
        "next(gen)"
      ],
      "metadata": {
        "colab": {
          "base_uri": "https://localhost:8080/"
        },
        "id": "au44gh6mDHgj",
        "outputId": "04edeb6a-86a6-4663-cd2e-0e6f6601cd1b"
      },
      "execution_count": 8,
      "outputs": [
        {
          "output_type": "execute_result",
          "data": {
            "text/plain": [
              "4"
            ]
          },
          "metadata": {},
          "execution_count": 8
        }
      ]
    },
    {
      "cell_type": "markdown",
      "source": [
        "7. Implement a generator function that reads a file line by line and yields each line as a string."
      ],
      "metadata": {
        "id": "AiqxK7ojDReo"
      }
    },
    {
      "cell_type": "code",
      "source": [
        "f = open(\"your_file.txt\", \"w\")\n",
        "f.write(\"how are you\\nwhat is your name\\nwhere do yo live\")\n",
        "f.close()"
      ],
      "metadata": {
        "id": "aRTE18FvDX48"
      },
      "execution_count": 2,
      "outputs": []
    },
    {
      "cell_type": "code",
      "source": [
        "def read_file(filename):\n",
        "  with open(filename, 'r') as f:\n",
        "    for line in f:\n",
        "      yield line.strip()"
      ],
      "metadata": {
        "id": "lutGW2E9K6aH"
      },
      "execution_count": 3,
      "outputs": []
    },
    {
      "cell_type": "code",
      "source": [
        "for line in read_file('your_file.txt'):\n",
        "     print(line)"
      ],
      "metadata": {
        "colab": {
          "base_uri": "https://localhost:8080/"
        },
        "id": "taLbqSJMK6pL",
        "outputId": "37cf5d34-e97e-4afb-ef5e-34dd60377220"
      },
      "execution_count": 4,
      "outputs": [
        {
          "output_type": "stream",
          "name": "stdout",
          "text": [
            "how are you\n",
            "what is your name\n",
            "where do yo live\n"
          ]
        }
      ]
    },
    {
      "cell_type": "markdown",
      "source": [
        "8. Use a lambda function in Python to sort a list of tuples based on the second element of each tuple."
      ],
      "metadata": {
        "id": "aKSe9TOwK8Nd"
      }
    },
    {
      "cell_type": "code",
      "source": [
        "my_list = [('apple', 4), ('banana', 7), ('mango', 10)]\n",
        "sorted_list = sorted(my_list, key=lambda x: x[1])"
      ],
      "metadata": {
        "id": "PWvQpxN9LBGf"
      },
      "execution_count": 13,
      "outputs": []
    },
    {
      "cell_type": "code",
      "source": [
        "sorted_list"
      ],
      "metadata": {
        "colab": {
          "base_uri": "https://localhost:8080/"
        },
        "id": "kMSh8yjWLOTQ",
        "outputId": "d5e5c793-b8d9-4c88-f566-fbb8a156a07f"
      },
      "execution_count": 14,
      "outputs": [
        {
          "output_type": "execute_result",
          "data": {
            "text/plain": [
              "[('apple', 4), ('banana', 7), ('mango', 10)]"
            ]
          },
          "metadata": {},
          "execution_count": 14
        }
      ]
    },
    {
      "cell_type": "markdown",
      "source": [
        "9. Write a Python program that uses `map()` to convert a list of temperatures from Celsius to Fahrenheit."
      ],
      "metadata": {
        "id": "TsRumf7lLcZo"
      }
    },
    {
      "cell_type": "code",
      "source": [
        "celsius = [0, 10, 20, 30, 45, 54, 63]\n",
        "fahrenheit = list(map(lambda x: (9/5)*x + 32, celsius))"
      ],
      "metadata": {
        "id": "CafgsQmpNHHB"
      },
      "execution_count": 15,
      "outputs": []
    },
    {
      "cell_type": "code",
      "source": [
        "fahrenheit"
      ],
      "metadata": {
        "colab": {
          "base_uri": "https://localhost:8080/"
        },
        "id": "dCwh9plBNQKp",
        "outputId": "6b3779cd-d6ef-435e-9052-602a1970e42f"
      },
      "execution_count": 16,
      "outputs": [
        {
          "output_type": "execute_result",
          "data": {
            "text/plain": [
              "[32.0, 50.0, 68.0, 86.0, 113.0, 129.2, 145.4]"
            ]
          },
          "metadata": {},
          "execution_count": 16
        }
      ]
    },
    {
      "cell_type": "markdown",
      "source": [
        "10. Create a Python program that uses `filter()` to remove all the vowels from a given string.\n",
        "\n",
        "\n"
      ],
      "metadata": {
        "id": "acWOXJ7XN3hN"
      }
    },
    {
      "cell_type": "code",
      "source": [
        "string_name = \"my name is yuvraj singh deora\"\n",
        "vowels = \"aeiouAEIOU\"\n",
        "list(filter(lambda x : x not in vowels , string_name))"
      ],
      "metadata": {
        "colab": {
          "base_uri": "https://localhost:8080/"
        },
        "id": "HIHeoJzcN6xd",
        "outputId": "9e63b0a2-2064-46d4-b975-182ee0c088bd"
      },
      "execution_count": 1,
      "outputs": [
        {
          "output_type": "execute_result",
          "data": {
            "text/plain": [
              "['m',\n",
              " 'y',\n",
              " ' ',\n",
              " 'n',\n",
              " 'm',\n",
              " ' ',\n",
              " 's',\n",
              " ' ',\n",
              " 'y',\n",
              " 'v',\n",
              " 'r',\n",
              " 'j',\n",
              " ' ',\n",
              " 's',\n",
              " 'n',\n",
              " 'g',\n",
              " 'h',\n",
              " ' ',\n",
              " 'd',\n",
              " 'r']"
            ]
          },
          "metadata": {},
          "execution_count": 1
        }
      ]
    },
    {
      "cell_type": "markdown",
      "source": [
        "11) Imagine an accounting routine used in a book shop. It works on a list with sublists, which look like this:\n",
        "\n",
        "\n",
        "\n",
        "\n",
        "\n",
        "\n",
        "\n",
        "Write a Python program, which returns a list with 2-tuples. Each tuple consists of the order number and the\n",
        "product of the price per item and the quantity. The product should be increased by 10,- € if the value of the\n",
        "order is smaller than 100,00 €.\n",
        "\n",
        "Write a Python program using lambda and map."
      ],
      "metadata": {
        "id": "8XBTPyKWR-aa"
      }
    },
    {
      "cell_type": "code",
      "source": [
        "def calculate_order_value(order):\n",
        "    order_number, _, quantity, price_per_item = order\n",
        "    total_price = quantity * price_per_item\n",
        "    return (order_number, total_price + 10 if total_price < 100 else total_price)\n",
        "\n",
        "# Sample data\n",
        "orders = [\n",
        "    [34587, \"Learning Python, Mark Lutz\", 4, 40.95],\n",
        "    [98762, \"Programming Python, Mark Lutz\", 5, 56.80],\n",
        "    [77226, \"Head First Python, Paul Barry\", 3, 32.95],\n",
        "    [88112, \"Einführung in Python3, Bernd Klein\", 3, 24.99]\n",
        "]\n",
        "\n",
        "# Using lambda and map\n",
        "\n",
        "result = list(map(lambda order: calculate_order_value(order), orders))\n",
        "\n",
        "print(result)"
      ],
      "metadata": {
        "colab": {
          "base_uri": "https://localhost:8080/"
        },
        "id": "mCrBfacR5Zx5",
        "outputId": "3fc36ca2-d5f5-4b01-f28b-9a2d913e840b"
      },
      "execution_count": 5,
      "outputs": [
        {
          "output_type": "stream",
          "name": "stdout",
          "text": [
            "[(34587, 163.8), (98762, 284.0), (77226, 108.85000000000001), (88112, 84.97)]\n"
          ]
        }
      ]
    },
    {
      "cell_type": "code",
      "source": [],
      "metadata": {
        "id": "Nj0YEZAj5jJb"
      },
      "execution_count": null,
      "outputs": []
    }
  ]
}